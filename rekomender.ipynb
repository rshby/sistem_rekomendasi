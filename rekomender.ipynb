{
 "cells": [
  {
   "cell_type": "code",
   "execution_count": 8,
   "metadata": {},
   "outputs": [],
   "source": [
    "from flask import Flask\n",
    "from sklearn.metrics.pairwise import cosine_distances\n",
    "from nltk.tokenize import word_tokenize\n",
    "from sklearn.feature_extraction.text import CountVectorizer\n",
    "import pandas as pd"
   ]
  },
  {
   "cell_type": "code",
   "execution_count": 4,
   "metadata": {},
   "outputs": [],
   "source": [
    "app = Flask(__name__)\n",
    "\n",
    "df = pd.read_csv(\"dataset/IMDb movies.csv\")\n",
    "df.loc[df[\"year\"] == \"TV Movie 2019\", \"year\"] = \"2019\"\n",
    "df[\"year\"] = df[\"year\"].astype(\"int\")\n",
    "\n",
    "df.dropna(subset=[\"description\"], inplace=True)"
   ]
  },
  {
   "cell_type": "code",
   "execution_count": 5,
   "metadata": {},
   "outputs": [],
   "source": [
    "bow = CountVectorizer(stop_words=\"english\", tokenizer=word_tokenize)\n",
    "bank = bow.fit_transform(df[\"description\"])"
   ]
  },
  {
   "cell_type": "code",
   "execution_count": null,
   "metadata": {},
   "outputs": [],
   "source": []
  },
  {
   "cell_type": "code",
   "execution_count": null,
   "metadata": {},
   "outputs": [
    {
     "name": "stdout",
     "output_type": "stream",
     "text": [
      " * Serving Flask app \"__main__\" (lazy loading)\n",
      " * Environment: production\n",
      "   WARNING: This is a development server. Do not use it in a production deployment.\n",
      "   Use a production WSGI server instead.\n",
      " * Debug mode: off\n"
     ]
    },
    {
     "name": "stderr",
     "output_type": "stream",
     "text": [
      " * Running on http://0.0.0.0:5000/ (Press CTRL+C to quit)\n",
      "127.0.0.1 - - [15/Aug/2021 21:10:20] \"\u001b[33mGET / HTTP/1.1\u001b[0m\" 404 -\n",
      "127.0.0.1 - - [15/Aug/2021 21:10:28] \"\u001b[33mGET / HTTP/1.1\u001b[0m\" 404 -\n",
      "127.0.0.1 - - [15/Aug/2021 21:10:34] \"\u001b[37mGET /rekomendasi HTTP/1.1\u001b[0m\" 200 -\n",
      "[2021-08-15 21:10:42,929] ERROR in app: Exception on /onpage [GET]\n",
      "Traceback (most recent call last):\n",
      "  File \"C:\\Users\\ROG\\anaconda3\\lib\\site-packages\\flask\\app.py\", line 2447, in wsgi_app\n",
      "    response = self.full_dispatch_request()\n",
      "  File \"C:\\Users\\ROG\\anaconda3\\lib\\site-packages\\flask\\app.py\", line 1952, in full_dispatch_request\n",
      "    rv = self.handle_user_exception(e)\n",
      "  File \"C:\\Users\\ROG\\anaconda3\\lib\\site-packages\\flask\\app.py\", line 1821, in handle_user_exception\n",
      "    reraise(exc_type, exc_value, tb)\n",
      "  File \"C:\\Users\\ROG\\anaconda3\\lib\\site-packages\\flask\\_compat.py\", line 39, in reraise\n",
      "    raise value\n",
      "  File \"C:\\Users\\ROG\\anaconda3\\lib\\site-packages\\flask\\app.py\", line 1950, in full_dispatch_request\n",
      "    rv = self.dispatch_request()\n",
      "  File \"C:\\Users\\ROG\\anaconda3\\lib\\site-packages\\flask\\app.py\", line 1936, in dispatch_request\n",
      "    return self.view_functions[rule.endpoint](**req.view_args)\n",
      "  File \"<ipython-input-9-86e5f23b357f>\", line 31, in onpage\n",
      "    distance = cosine_discances(code, bank)\n",
      "NameError: name 'cosine_discances' is not defined\n",
      "127.0.0.1 - - [15/Aug/2021 21:10:42] \"\u001b[35m\u001b[1mGET /onpage HTTP/1.1\u001b[0m\" 500 -\n"
     ]
    }
   ],
   "source": [
    "from flask import Flask\n",
    "from sklearn.metrics.pairwise import cosine_distances\n",
    "from nltk.tokenize import word_tokenize\n",
    "from sklearn.feature_extraction.text import CountVectorizer\n",
    "import pandas as pd\n",
    "\n",
    "app = Flask(__name__)\n",
    "\n",
    "df = pd.read_csv(\"dataset/IMDb movies.csv\")\n",
    "df.loc[df[\"year\"] == \"TV Movie 2019\", \"year\"] = \"2019\"\n",
    "df[\"year\"] = df[\"year\"].astype(\"int\")\n",
    "\n",
    "df.dropna(subset=[\"description\"], inplace=True)\n",
    "\n",
    "bow = CountVectorizer(stop_words=\"english\", tokenizer=word_tokenize)\n",
    "bank = bow.fit_transform(df[\"description\"])\n",
    "\n",
    "\n",
    "@app.route(\"/rekomendasi\")\n",
    "def rekomendasi():\n",
    "    rekomen = df[(df[\"year\"] > 2019) & (df[\"avg_vote\"] > 9)].sort_values(\n",
    "        by=\"avg_vote\", ascending=False).head(10).to_json(orient=\"records\")\n",
    "    return rekomen\n",
    "\n",
    "\n",
    "@app.route(\"/onpage\")\n",
    "def onpage():\n",
    "    user_imdb_title_id = \"tt0000009\"\n",
    "    konten = df.loc[df[\"imdb_title_id\"] == user_imdb_title_id, \"description\"]\n",
    "    code = bow.transform(konten)\n",
    "    distance = cosine_discances(code, bank)\n",
    "    rec_idx = distance.argsort()[0, 1:11]\n",
    "    hasil_rekomendasi = df.loc[rec_idx].to_json(orient=\"records\")\n",
    "    return hasil_rekomendasi\n",
    "\n",
    "\n",
    "if __name__ == \"__main__\":\n",
    "    app.run(host=\"0.0.0.0\", port=\"5000\")\n"
   ]
  },
  {
   "cell_type": "code",
   "execution_count": null,
   "metadata": {},
   "outputs": [],
   "source": []
  },
  {
   "cell_type": "code",
   "execution_count": null,
   "metadata": {},
   "outputs": [],
   "source": []
  }
 ],
 "metadata": {
  "kernelspec": {
   "display_name": "Python 3",
   "language": "python",
   "name": "python3"
  },
  "language_info": {
   "codemirror_mode": {
    "name": "ipython",
    "version": 3
   },
   "file_extension": ".py",
   "mimetype": "text/x-python",
   "name": "python",
   "nbconvert_exporter": "python",
   "pygments_lexer": "ipython3",
   "version": "3.7.6"
  }
 },
 "nbformat": 4,
 "nbformat_minor": 4
}
